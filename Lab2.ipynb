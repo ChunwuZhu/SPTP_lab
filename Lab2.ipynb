{
  "nbformat": 4,
  "nbformat_minor": 0,
  "metadata": {
    "colab": {
      "name": "Lab2.ipynb",
      "provenance": [],
      "collapsed_sections": []
    },
    "kernelspec": {
      "name": "python3",
      "display_name": "Python 3"
    },
    "language_info": {
      "name": "python"
    }
  },
  "cells": [
    {
      "cell_type": "markdown",
      "source": [
        "### 1 Install the packages"
      ],
      "metadata": {
        "id": "nyDP2xR0M-M7"
      }
    },
    {
      "cell_type": "code",
      "execution_count": 1,
      "metadata": {
        "colab": {
          "base_uri": "https://localhost:8080/"
        },
        "id": "8owcE-PBM0Ye",
        "outputId": "93b68ef9-10f6-43e7-9649-bcc18856df01"
      },
      "outputs": [
        {
          "output_type": "stream",
          "name": "stdout",
          "text": [
            "Requirement already satisfied: matplotlib in /usr/local/lib/python3.7/dist-packages (3.2.2)\n",
            "Requirement already satisfied: inequality in /usr/local/lib/python3.7/dist-packages (1.0.0)\n",
            "Requirement already satisfied: libpysal in /usr/local/lib/python3.7/dist-packages (4.6.2)\n",
            "Requirement already satisfied: geopandas in /usr/local/lib/python3.7/dist-packages (0.10.2)\n",
            "Requirement already satisfied: requests in /usr/local/lib/python3.7/dist-packages (2.23.0)\n",
            "Requirement already satisfied: pandas in /usr/local/lib/python3.7/dist-packages (1.3.5)\n",
            "Requirement already satisfied: mapclassify in /usr/local/lib/python3.7/dist-packages (2.4.3)\n",
            "Requirement already satisfied: numpy in /usr/local/lib/python3.7/dist-packages (1.21.5)\n",
            "Requirement already satisfied: kiwisolver>=1.0.1 in /usr/local/lib/python3.7/dist-packages (from matplotlib) (1.4.0)\n",
            "Requirement already satisfied: cycler>=0.10 in /usr/local/lib/python3.7/dist-packages (from matplotlib) (0.11.0)\n",
            "Requirement already satisfied: python-dateutil>=2.1 in /usr/local/lib/python3.7/dist-packages (from matplotlib) (2.8.2)\n",
            "Requirement already satisfied: pyparsing!=2.0.4,!=2.1.2,!=2.1.6,>=2.0.1 in /usr/local/lib/python3.7/dist-packages (from matplotlib) (3.0.7)\n",
            "Requirement already satisfied: typing-extensions in /usr/local/lib/python3.7/dist-packages (from kiwisolver>=1.0.1->matplotlib) (3.10.0.2)\n",
            "Requirement already satisfied: six>=1.5 in /usr/local/lib/python3.7/dist-packages (from python-dateutil>=2.1->matplotlib) (1.15.0)\n",
            "Requirement already satisfied: scipy>=0.11 in /usr/local/lib/python3.7/dist-packages (from inequality) (1.4.1)\n",
            "Requirement already satisfied: jinja2 in /usr/local/lib/python3.7/dist-packages (from libpysal) (2.11.3)\n",
            "Requirement already satisfied: packaging in /usr/local/lib/python3.7/dist-packages (from libpysal) (21.3)\n",
            "Requirement already satisfied: appdirs in /usr/local/lib/python3.7/dist-packages (from libpysal) (1.4.4)\n",
            "Requirement already satisfied: beautifulsoup4 in /usr/local/lib/python3.7/dist-packages (from libpysal) (4.6.3)\n",
            "Requirement already satisfied: pyproj>=2.2.0 in /usr/local/lib/python3.7/dist-packages (from geopandas) (3.2.1)\n",
            "Requirement already satisfied: shapely>=1.6 in /usr/local/lib/python3.7/dist-packages (from geopandas) (1.8.1.post1)\n",
            "Requirement already satisfied: fiona>=1.8 in /usr/local/lib/python3.7/dist-packages (from geopandas) (1.8.21)\n",
            "Requirement already satisfied: pytz>=2017.3 in /usr/local/lib/python3.7/dist-packages (from pandas) (2018.9)\n",
            "Requirement already satisfied: cligj>=0.5 in /usr/local/lib/python3.7/dist-packages (from fiona>=1.8->geopandas) (0.7.2)\n",
            "Requirement already satisfied: click>=4.0 in /usr/local/lib/python3.7/dist-packages (from fiona>=1.8->geopandas) (7.1.2)\n",
            "Requirement already satisfied: click-plugins>=1.0 in /usr/local/lib/python3.7/dist-packages (from fiona>=1.8->geopandas) (1.1.1)\n",
            "Requirement already satisfied: attrs>=17 in /usr/local/lib/python3.7/dist-packages (from fiona>=1.8->geopandas) (21.4.0)\n",
            "Requirement already satisfied: certifi in /usr/local/lib/python3.7/dist-packages (from fiona>=1.8->geopandas) (2021.10.8)\n",
            "Requirement already satisfied: munch in /usr/local/lib/python3.7/dist-packages (from fiona>=1.8->geopandas) (2.5.0)\n",
            "Requirement already satisfied: setuptools in /usr/local/lib/python3.7/dist-packages (from fiona>=1.8->geopandas) (57.4.0)\n",
            "Requirement already satisfied: urllib3!=1.25.0,!=1.25.1,<1.26,>=1.21.1 in /usr/local/lib/python3.7/dist-packages (from requests) (1.24.3)\n",
            "Requirement already satisfied: idna<3,>=2.5 in /usr/local/lib/python3.7/dist-packages (from requests) (2.10)\n",
            "Requirement already satisfied: chardet<4,>=3.0.2 in /usr/local/lib/python3.7/dist-packages (from requests) (3.0.4)\n",
            "Requirement already satisfied: networkx in /usr/local/lib/python3.7/dist-packages (from mapclassify) (2.6.3)\n",
            "Requirement already satisfied: scikit-learn in /usr/local/lib/python3.7/dist-packages (from mapclassify) (1.0.2)\n",
            "Requirement already satisfied: MarkupSafe>=0.23 in /usr/local/lib/python3.7/dist-packages (from jinja2->libpysal) (2.0.1)\n",
            "Requirement already satisfied: joblib>=0.11 in /usr/local/lib/python3.7/dist-packages (from scikit-learn->mapclassify) (1.1.0)\n",
            "Requirement already satisfied: threadpoolctl>=2.0.0 in /usr/local/lib/python3.7/dist-packages (from scikit-learn->mapclassify) (3.1.0)\n"
          ]
        }
      ],
      "source": [
        "! pip install matplotlib inequality libpysal geopandas requests pandas mapclassify numpy"
      ]
    },
    {
      "cell_type": "markdown",
      "source": [
        "### 2 Import the packages"
      ],
      "metadata": {
        "id": "XHKp4JApNgUC"
      }
    },
    {
      "cell_type": "code",
      "source": [
        "import matplotlib.pyplot as plt\n",
        "import inequality\n",
        "import libpysal\n",
        "import geopandas as gpd\n",
        "import pandas as pd\n",
        "import json\n",
        "import requests\n",
        "import numpy as np\n",
        "from libpysal.weights import Queen, Rook, KNN\n"
      ],
      "metadata": {
        "id": "xl7ZuHa3NHJs"
      },
      "execution_count": 2,
      "outputs": []
    },
    {
      "cell_type": "markdown",
      "source": [
        "### 3 Load the census tract in harris county and take a look at it"
      ],
      "metadata": {
        "id": "EWbngq4UNncC"
      }
    },
    {
      "cell_type": "code",
      "source": [
        "!wget https://raw.githubusercontent.com/ChunwuZhu/SPTP_lab/main/harris.geojson\n",
        "harris = gpd.read_file(\n",
        "    \"./harris.geojson\"\n",
        ")\n",
        "harris.plot()"
      ],
      "metadata": {
        "colab": {
          "base_uri": "https://localhost:8080/",
          "height": 476
        },
        "id": "IDsD6VtHNu2e",
        "outputId": "3ea42cac-332d-4a73-9edf-cad907ee2912"
      },
      "execution_count": 4,
      "outputs": [
        {
          "output_type": "stream",
          "name": "stdout",
          "text": [
            "--2022-04-06 23:01:32--  https://raw.githubusercontent.com/ChunwuZhu/SPTP_lab/main/harris.geojson\n",
            "Resolving raw.githubusercontent.com (raw.githubusercontent.com)... 185.199.108.133, 185.199.109.133, 185.199.110.133, ...\n",
            "Connecting to raw.githubusercontent.com (raw.githubusercontent.com)|185.199.108.133|:443... connected.\n",
            "HTTP request sent, awaiting response... 200 OK\n",
            "Length: 6155948 (5.9M) [text/plain]\n",
            "Saving to: ‘harris.geojson’\n",
            "\n",
            "\rharris.geojson        0%[                    ]       0  --.-KB/s               \rharris.geojson      100%[===================>]   5.87M  --.-KB/s    in 0.1s    \n",
            "\n",
            "2022-04-06 23:01:32 (59.7 MB/s) - ‘harris.geojson’ saved [6155948/6155948]\n",
            "\n"
          ]
        },
        {
          "output_type": "execute_result",
          "data": {
            "text/plain": [
              "<matplotlib.axes._subplots.AxesSubplot at 0x7f9936eac110>"
            ]
          },
          "metadata": {},
          "execution_count": 4
        },
        {
          "output_type": "display_data",
          "data": {
            "text/plain": [
              "<Figure size 432x288 with 1 Axes>"
            ],
            "image/png": "[encoded data removed]"
          },
          "metadata": {
            "needs_background": "light"
          }
        }
      ]
    },
    {
      "cell_type": "code",
      "source": [
        "harris.head()"
      ],
      "metadata": {
        "colab": {
          "base_uri": "https://localhost:8080/",
          "height": 337
        },
        "id": "8E5uvyl4OW7o",
        "outputId": "eee5be0f-160e-4f1d-fec5-7254b37d69b5"
      },
      "execution_count": 5,
      "outputs": [
        {
          "output_type": "execute_result",
          "data": {
            "text/plain": [
              "  STATEFP COUNTYFP TRACTCE        GEOID  Shape_Leng  Shape_Area       Area  \\\n",
              "0      48      201  550301  48201550301    0.087945    0.000266   2.841116   \n",
              "1      48      201  550302  48201550302    0.128726    0.000833   8.905305   \n",
              "2      48      201  550401  48201550401    0.136356    0.000941  10.062362   \n",
              "3      48      201  553403  48201553403    0.164595    0.000623   6.659484   \n",
              "4      48      201  454502  48201454502    0.118936    0.000706   7.573661   \n",
              "\n",
              "     area_km         date  F2_15_2021  ObjectID      geoid_1  during_dis  \\\n",
              "0   2.841116  48201550301   -0.592180       695  48201550301  115.929204   \n",
              "1   8.905305  48201550302   -0.633229       696  48201550302  141.739622   \n",
              "2  10.062362  48201550401   -0.562786       697  48201550401  138.179285   \n",
              "3   6.659484  48201553403   -0.623691       740  48201553403  205.497382   \n",
              "4   7.573661  48201454502   -0.843546       545  48201454502  289.164786   \n",
              "\n",
              "      robust  ObjectID_1  region  \\\n",
              "0  58.702065         718       2   \n",
              "1  62.993505         720       2   \n",
              "2  55.945193         719       2   \n",
              "3  61.910995         660       2   \n",
              "4  84.198646         119       1   \n",
              "\n",
              "                                            geometry  \n",
              "0  MULTIPOLYGON (((-95.43727 29.98103, -95.43709 ...  \n",
              "1  MULTIPOLYGON (((-95.46369 30.00709, -95.45908 ...  \n",
              "2  MULTIPOLYGON (((-95.48469 29.99539, -95.48391 ...  \n",
              "3  MULTIPOLYGON (((-95.49277 30.05046, -95.49212 ...  \n",
              "4  MULTIPOLYGON (((-95.73361 29.73627, -95.73338 ...  "
            ],
            "text/html": [
              "\n",
              "  <div id=\"df-3d5759d0-2ee7-42a6-983f-fe08f7a05322\">\n",
              "    <div class=\"colab-df-container\">\n",
              "      <div>\n",
              "<style scoped>\n",
              "    .dataframe tbody tr th:only-of-type {\n",
              "        vertical-align: middle;\n",
              "    }\n",
              "\n",
              "    .dataframe tbody tr th {\n",
              "        vertical-align: top;\n",
              "    }\n",
              "\n",
              "    .dataframe thead th {\n",
              "        text-align: right;\n",
              "    }\n",
              "</style>\n",
              "<table border=\"1\" class=\"dataframe\">\n",
              "  <thead>\n",
              "    <tr style=\"text-align: right;\">\n",
              "      <th></th>\n",
              "      <th>STATEFP</th>\n",
              "      <th>COUNTYFP</th>\n",
              "      <th>TRACTCE</th>\n",
              "      <th>GEOID</th>\n",
              "      <th>Shape_Leng</th>\n",
              "      <th>Shape_Area</th>\n",
              "      <th>Area</th>\n",
              "      <th>area_km</th>\n",
              "      <th>date</th>\n",
              "      <th>F2_15_2021</th>\n",
              "      <th>ObjectID</th>\n",
              "      <th>geoid_1</th>\n",
              "      <th>during_dis</th>\n",
              "      <th>robust</th>\n",
              "      <th>ObjectID_1</th>\n",
              "      <th>region</th>\n",
              "      <th>geometry</th>\n",
              "    </tr>\n",
              "  </thead>\n",
              "  <tbody>\n",
              "    <tr>\n",
              "      <th>0</th>\n",
              "      <td>48</td>\n",
              "      <td>201</td>\n",
              "      <td>550301</td>\n",
              "      <td>48201550301</td>\n",
              "      <td>0.087945</td>\n",
              "      <td>0.000266</td>\n",
              "      <td>2.841116</td>\n",
              "      <td>2.841116</td>\n",
              "      <td>48201550301</td>\n",
              "      <td>-0.592180</td>\n",
              "      <td>695</td>\n",
              "      <td>48201550301</td>\n",
              "      <td>115.929204</td>\n",
              "      <td>58.702065</td>\n",
              "      <td>718</td>\n",
              "      <td>2</td>\n",
              "      <td>MULTIPOLYGON (((-95.43727 29.98103, -95.43709 ...</td>\n",
              "    </tr>\n",
              "    <tr>\n",
              "      <th>1</th>\n",
              "      <td>48</td>\n",
              "      <td>201</td>\n",
              "      <td>550302</td>\n",
              "      <td>48201550302</td>\n",
              "      <td>0.128726</td>\n",
              "      <td>0.000833</td>\n",
              "      <td>8.905305</td>\n",
              "      <td>8.905305</td>\n",
              "      <td>48201550302</td>\n",
              "      <td>-0.633229</td>\n",
              "      <td>696</td>\n",
              "      <td>48201550302</td>\n",
              "      <td>141.739622</td>\n",
              "      <td>62.993505</td>\n",
              "      <td>720</td>\n",
              "      <td>2</td>\n",
              "      <td>MULTIPOLYGON (((-95.46369 30.00709, -95.45908 ...</td>\n",
              "    </tr>\n",
              "    <tr>\n",
              "      <th>2</th>\n",
              "      <td>48</td>\n",
              "      <td>201</td>\n",
              "      <td>550401</td>\n",
              "      <td>48201550401</td>\n",
              "      <td>0.136356</td>\n",
              "      <td>0.000941</td>\n",
              "      <td>10.062362</td>\n",
              "      <td>10.062362</td>\n",
              "      <td>48201550401</td>\n",
              "      <td>-0.562786</td>\n",
              "      <td>697</td>\n",
              "      <td>48201550401</td>\n",
              "      <td>138.179285</td>\n",
              "      <td>55.945193</td>\n",
              "      <td>719</td>\n",
              "      <td>2</td>\n",
              "      <td>MULTIPOLYGON (((-95.48469 29.99539, -95.48391 ...</td>\n",
              "    </tr>\n",
              "    <tr>\n",
              "      <th>3</th>\n",
              "      <td>48</td>\n",
              "      <td>201</td>\n",
              "      <td>553403</td>\n",
              "      <td>48201553403</td>\n",
              "      <td>0.164595</td>\n",
              "      <td>0.000623</td>\n",
              "      <td>6.659484</td>\n",
              "      <td>6.659484</td>\n",
              "      <td>48201553403</td>\n",
              "      <td>-0.623691</td>\n",
              "      <td>740</td>\n",
              "      <td>48201553403</td>\n",
              "      <td>205.497382</td>\n",
              "      <td>61.910995</td>\n",
              "      <td>660</td>\n",
              "      <td>2</td>\n",
              "      <td>MULTIPOLYGON (((-95.49277 30.05046, -95.49212 ...</td>\n",
              "    </tr>\n",
              "    <tr>\n",
              "      <th>4</th>\n",
              "      <td>48</td>\n",
              "      <td>201</td>\n",
              "      <td>454502</td>\n",
              "      <td>48201454502</td>\n",
              "      <td>0.118936</td>\n",
              "      <td>0.000706</td>\n",
              "      <td>7.573661</td>\n",
              "      <td>7.573661</td>\n",
              "      <td>48201454502</td>\n",
              "      <td>-0.843546</td>\n",
              "      <td>545</td>\n",
              "      <td>48201454502</td>\n",
              "      <td>289.164786</td>\n",
              "      <td>84.198646</td>\n",
              "      <td>119</td>\n",
              "      <td>1</td>\n",
              "      <td>MULTIPOLYGON (((-95.73361 29.73627, -95.73338 ...</td>\n",
              "    </tr>\n",
              "  </tbody>\n",
              "</table>\n",
              "</div>\n",
              "      <button class=\"colab-df-convert\" onclick=\"convertToInteractive('df-3d5759d0-2ee7-42a6-983f-fe08f7a05322')\"\n",
              "              title=\"Convert this dataframe to an interactive table.\"\n",
              "              style=\"display:none;\">\n",
              "        \n",
              "  <svg xmlns=\"http://www.w3.org/2000/svg\" height=\"24px\"viewBox=\"0 0 24 24\"\n",
              "       width=\"24px\">\n",
              "    <path d=\"M0 0h24v24H0V0z\" fill=\"none\"/>\n",
              "    <path d=\"M18.56 5.44l.94 2.06.94-2.06 2.06-.94-2.06-.94-.94-2.06-.94 2.06-2.06.94zm-11 1L8.5 8.5l.94-2.06 2.06-.94-2.06-.94L8.5 2.5l-.94 2.06-2.06.94zm10 10l.94 2.06.94-2.06 2.06-.94-2.06-.94-.94-2.06-.94 2.06-2.06.94z\"/><path d=\"M17.41 7.96l-1.37-1.37c-.4-.4-.92-.59-1.43-.59-.52 0-1.04.2-1.43.59L10.3 9.45l-7.72 7.72c-.78.78-.78 2.05 0 2.83L4 21.41c.39.39.9.59 1.41.59.51 0 1.02-.2 1.41-.59l7.78-7.78 2.81-2.81c.8-.78.8-2.07 0-2.86zM5.41 20L4 18.59l7.72-7.72 1.47 1.35L5.41 20z\"/>\n",
              "  </svg>\n",
              "      </button>\n",
              "      \n",
              "  <style>\n",
              "    .colab-df-container {\n",
              "      display:flex;\n",
              "      flex-wrap:wrap;\n",
              "      gap: 12px;\n",
              "    }\n",
              "\n",
              "    .colab-df-convert {\n",
              "      background-color: #E8F0FE;\n",
              "      border: none;\n",
              "      border-radius: 50%;\n",
              "      cursor: pointer;\n",
              "      display: none;\n",
              "      fill: #1967D2;\n",
              "      height: 32px;\n",
              "      padding: 0 0 0 0;\n",
              "      width: 32px;\n",
              "    }\n",
              "\n",
              "    .colab-df-convert:hover {\n",
              "      background-color: #E2EBFA;\n",
              "      box-shadow: 0px 1px 2px rgba(60, 64, 67, 0.3), 0px 1px 3px 1px rgba(60, 64, 67, 0.15);\n",
              "      fill: #174EA6;\n",
              "    }\n",
              "\n",
              "    [theme=dark] .colab-df-convert {\n",
              "      background-color: #3B4455;\n",
              "      fill: #D2E3FC;\n",
              "    }\n",
              "\n",
              "    [theme=dark] .colab-df-convert:hover {\n",
              "      background-color: #434B5C;\n",
              "      box-shadow: 0px 1px 3px 1px rgba(0, 0, 0, 0.15);\n",
              "      filter: drop-shadow(0px 1px 2px rgba(0, 0, 0, 0.3));\n",
              "      fill: #FFFFFF;\n",
              "    }\n",
              "  </style>\n",
              "\n",
              "      <script>\n",
              "        const buttonEl =\n",
              "          document.querySelector('#df-3d5759d0-2ee7-42a6-983f-fe08f7a05322 button.colab-df-convert');\n",
              "        buttonEl.style.display =\n",
              "          google.colab.kernel.accessAllowed ? 'block' : 'none';\n",
              "\n",
              "        async function convertToInteractive(key) {\n",
              "          const element = document.querySelector('#df-3d5759d0-2ee7-42a6-983f-fe08f7a05322');\n",
              "          const dataTable =\n",
              "            await google.colab.kernel.invokeFunction('convertToInteractive',\n",
              "                                                     [key], {});\n",
              "          if (!dataTable) return;\n",
              "\n",
              "          const docLinkHtml = 'Like what you see? Visit the ' +\n",
              "            '<a target=\"_blank\" href=https://colab.research.google.com/notebooks/data_table.ipynb>data table notebook</a>'\n",
              "            + ' to learn more about interactive tables.';\n",
              "          element.innerHTML = '';\n",
              "          dataTable['output_type'] = 'display_data';\n",
              "          await google.colab.output.renderOutput(dataTable, element);\n",
              "          const docLink = document.createElement('div');\n",
              "          docLink.innerHTML = docLinkHtml;\n",
              "          element.appendChild(docLink);\n",
              "        }\n",
              "      </script>\n",
              "    </div>\n",
              "  </div>\n",
              "  "
            ]
          },
          "metadata": {},
          "execution_count": 5
        }
      ]
    },
    {
      "cell_type": "markdown",
      "source": [
        "### 4 Get ACS data using api\n"
      ],
      "metadata": {
        "id": "zBYkn0p7OISR"
      }
    },
    {
      "cell_type": "code",
      "source": [
        "def get_acs_data(year,type,fields,tract,state,county,key):\n",
        "    api_url = 'https://api.census.gov/data/{}/acs/{}?get=NAME,{}&for=tract:{}&in=state:{}&in=county:{}&key={}'.format(year,type,list(fields.keys())[0],tract,state,county,key)\n",
        "    html = requests.get(api_url)\n",
        "    res = json.loads(html.content)\n",
        "    df_res = pd.DataFrame(res[1:])\n",
        "    column = res[0]\n",
        "    column[1] =list(fields.values())[0]\n",
        "    df_res.columns = column\n",
        "    df_res['geoid'] = df_res['state'].astype(str)+df_res['county'].astype(str)+df_res['tract'].astype(str)\n",
        "    df_res['geoid'] = df_res['geoid'].astype('str')\n",
        "    df_res[list(fields.values())[0]] = df_res[list(fields.values())[0]].astype('float')\n",
        "    return df_res"
      ],
      "metadata": {
        "id": "V80PVVDMN3vf"
      },
      "execution_count": 6,
      "outputs": []
    },
    {
      "cell_type": "markdown",
      "source": [
        "### 5 Get median household income for census tract in harris county for the year 2019"
      ],
      "metadata": {
        "id": "puT_D_NzRApn"
      }
    },
    {
      "cell_type": "code",
      "source": [
        "year = \"2019\"\n",
        "fields = {'B19013_001E':'MHI_{}'.format(year)}\n",
        "inc_2019 = get_acs_data(year=year,type=\"acs5\",fields=fields,tract=\"*\",state=\"48\", county='201', key='77908019f81f76b439f9eac11a6918582f81ff7f')\n",
        "inc_2019"
      ],
      "metadata": {
        "colab": {
          "base_uri": "https://localhost:8080/",
          "height": 423
        },
        "id": "_TsUAxB9QUL4",
        "outputId": "cf35dbab-9f09-49f3-e87a-f59993ff2a70"
      },
      "execution_count": 7,
      "outputs": [
        {
          "output_type": "execute_result",
          "data": {
            "text/plain": [
              "                                           NAME  MHI_2019 state county  \\\n",
              "0       Census Tract 5424, Harris County, Texas   67166.0    48    201   \n",
              "1       Census Tract 5507, Harris County, Texas   66724.0    48    201   \n",
              "2       Census Tract 5514, Harris County, Texas   79122.0    48    201   \n",
              "3       Census Tract 5525, Harris County, Texas   63906.0    48    201   \n",
              "4       Census Tract 2107, Harris County, Texas   39047.0    48    201   \n",
              "..                                          ...       ...   ...    ...   \n",
              "781  Census Tract 5421.01, Harris County, Texas   66587.0    48    201   \n",
              "782  Census Tract 5421.02, Harris County, Texas   79424.0    48    201   \n",
              "783  Census Tract 5423.01, Harris County, Texas   76268.0    48    201   \n",
              "784  Census Tract 5423.02, Harris County, Texas   83477.0    48    201   \n",
              "785  Census Tract 5430.01, Harris County, Texas  134754.0    48    201   \n",
              "\n",
              "      tract        geoid  \n",
              "0    542400  48201542400  \n",
              "1    550700  48201550700  \n",
              "2    551400  48201551400  \n",
              "3    552500  48201552500  \n",
              "4    210700  48201210700  \n",
              "..      ...          ...  \n",
              "781  542101  48201542101  \n",
              "782  542102  48201542102  \n",
              "783  542301  48201542301  \n",
              "784  542302  48201542302  \n",
              "785  543001  48201543001  \n",
              "\n",
              "[786 rows x 6 columns]"
            ],
            "text/html": [
              "\n",
              "  <div id=\"df-450edcb9-23ae-48b1-b6c7-769f76c0c892\">\n",
              "    <div class=\"colab-df-container\">\n",
              "      <div>\n",
              "<style scoped>\n",
              "    .dataframe tbody tr th:only-of-type {\n",
              "        vertical-align: middle;\n",
              "    }\n",
              "\n",
              "    .dataframe tbody tr th {\n",
              "        vertical-align: top;\n",
              "    }\n",
              "\n",
              "    .dataframe thead th {\n",
              "        text-align: right;\n",
              "    }\n",
              "</style>\n",
              "<table border=\"1\" class=\"dataframe\">\n",
              "  <thead>\n",
              "    <tr style=\"text-align: right;\">\n",
              "      <th></th>\n",
              "      <th>NAME</th>\n",
              "      <th>MHI_2019</th>\n",
              "      <th>state</th>\n",
              "      <th>county</th>\n",
              "      <th>tract</th>\n",
              "      <th>geoid</th>\n",
              "    </tr>\n",
              "  </thead>\n",
              "  <tbody>\n",
              "    <tr>\n",
              "      <th>0</th>\n",
              "      <td>Census Tract 5424, Harris County, Texas</td>\n",
              "      <td>67166.0</td>\n",
              "      <td>48</td>\n",
              "      <td>201</td>\n",
              "      <td>542400</td>\n",
              "      <td>48201542400</td>\n",
              "    </tr>\n",
              "    <tr>\n",
              "      <th>1</th>\n",
              "      <td>Census Tract 5507, Harris County, Texas</td>\n",
              "      <td>66724.0</td>\n",
              "      <td>48</td>\n",
              "      <td>201</td>\n",
              "      <td>550700</td>\n",
              "      <td>48201550700</td>\n",
              "    </tr>\n",
              "    <tr>\n",
              "      <th>2</th>\n",
              "      <td>Census Tract 5514, Harris County, Texas</td>\n",
              "      <td>79122.0</td>\n",
              "      <td>48</td>\n",
              "      <td>201</td>\n",
              "      <td>551400</td>\n",
              "      <td>48201551400</td>\n",
              "    </tr>\n",
              "    <tr>\n",
              "      <th>3</th>\n",
              "      <td>Census Tract 5525, Harris County, Texas</td>\n",
              "      <td>63906.0</td>\n",
              "      <td>48</td>\n",
              "      <td>201</td>\n",
              "      <td>552500</td>\n",
              "      <td>48201552500</td>\n",
              "    </tr>\n",
              "    <tr>\n",
              "      <th>4</th>\n",
              "      <td>Census Tract 2107, Harris County, Texas</td>\n",
              "      <td>39047.0</td>\n",
              "      <td>48</td>\n",
              "      <td>201</td>\n",
              "      <td>210700</td>\n",
              "      <td>48201210700</td>\n",
              "    </tr>\n",
              "    <tr>\n",
              "      <th>...</th>\n",
              "      <td>...</td>\n",
              "      <td>...</td>\n",
              "      <td>...</td>\n",
              "      <td>...</td>\n",
              "      <td>...</td>\n",
              "      <td>...</td>\n",
              "    </tr>\n",
              "    <tr>\n",
              "      <th>781</th>\n",
              "      <td>Census Tract 5421.01, Harris County, Texas</td>\n",
              "      <td>66587.0</td>\n",
              "      <td>48</td>\n",
              "      <td>201</td>\n",
              "      <td>542101</td>\n",
              "      <td>48201542101</td>\n",
              "    </tr>\n",
              "    <tr>\n",
              "      <th>782</th>\n",
              "      <td>Census Tract 5421.02, Harris County, Texas</td>\n",
              "      <td>79424.0</td>\n",
              "      <td>48</td>\n",
              "      <td>201</td>\n",
              "      <td>542102</td>\n",
              "      <td>48201542102</td>\n",
              "    </tr>\n",
              "    <tr>\n",
              "      <th>783</th>\n",
              "      <td>Census Tract 5423.01, Harris County, Texas</td>\n",
              "      <td>76268.0</td>\n",
              "      <td>48</td>\n",
              "      <td>201</td>\n",
              "      <td>542301</td>\n",
              "      <td>48201542301</td>\n",
              "    </tr>\n",
              "    <tr>\n",
              "      <th>784</th>\n",
              "      <td>Census Tract 5423.02, Harris County, Texas</td>\n",
              "      <td>83477.0</td>\n",
              "      <td>48</td>\n",
              "      <td>201</td>\n",
              "      <td>542302</td>\n",
              "      <td>48201542302</td>\n",
              "    </tr>\n",
              "    <tr>\n",
              "      <th>785</th>\n",
              "      <td>Census Tract 5430.01, Harris County, Texas</td>\n",
              "      <td>134754.0</td>\n",
              "      <td>48</td>\n",
              "      <td>201</td>\n",
              "      <td>543001</td>\n",
              "      <td>48201543001</td>\n",
              "    </tr>\n",
              "  </tbody>\n",
              "</table>\n",
              "<p>786 rows × 6 columns</p>\n",
              "</div>\n",
              "      <button class=\"colab-df-convert\" onclick=\"convertToInteractive('df-450edcb9-23ae-48b1-b6c7-769f76c0c892')\"\n",
              "              title=\"Convert this dataframe to an interactive table.\"\n",
              "              style=\"display:none;\">\n",
              "        \n",
              "  <svg xmlns=\"http://www.w3.org/2000/svg\" height=\"24px\"viewBox=\"0 0 24 24\"\n",
              "       width=\"24px\">\n",
              "    <path d=\"M0 0h24v24H0V0z\" fill=\"none\"/>\n",
              "    <path d=\"M18.56 5.44l.94 2.06.94-2.06 2.06-.94-2.06-.94-.94-2.06-.94 2.06-2.06.94zm-11 1L8.5 8.5l.94-2.06 2.06-.94-2.06-.94L8.5 2.5l-.94 2.06-2.06.94zm10 10l.94 2.06.94-2.06 2.06-.94-2.06-.94-.94-2.06-.94 2.06-2.06.94z\"/><path d=\"M17.41 7.96l-1.37-1.37c-.4-.4-.92-.59-1.43-.59-.52 0-1.04.2-1.43.59L10.3 9.45l-7.72 7.72c-.78.78-.78 2.05 0 2.83L4 21.41c.39.39.9.59 1.41.59.51 0 1.02-.2 1.41-.59l7.78-7.78 2.81-2.81c.8-.78.8-2.07 0-2.86zM5.41 20L4 18.59l7.72-7.72 1.47 1.35L5.41 20z\"/>\n",
              "  </svg>\n",
              "      </button>\n",
              "      \n",
              "  <style>\n",
              "    .colab-df-container {\n",
              "      display:flex;\n",
              "      flex-wrap:wrap;\n",
              "      gap: 12px;\n",
              "    }\n",
              "\n",
              "    .colab-df-convert {\n",
              "      background-color: #E8F0FE;\n",
              "      border: none;\n",
              "      border-radius: 50%;\n",
              "      cursor: pointer;\n",
              "      display: none;\n",
              "      fill: #1967D2;\n",
              "      height: 32px;\n",
              "      padding: 0 0 0 0;\n",
              "      width: 32px;\n",
              "    }\n",
              "\n",
              "    .colab-df-convert:hover {\n",
              "      background-color: #E2EBFA;\n",
              "      box-shadow: 0px 1px 2px rgba(60, 64, 67, 0.3), 0px 1px 3px 1px rgba(60, 64, 67, 0.15);\n",
              "      fill: #174EA6;\n",
              "    }\n",
              "\n",
              "    [theme=dark] .colab-df-convert {\n",
              "      background-color: #3B4455;\n",
              "      fill: #D2E3FC;\n",
              "    }\n",
              "\n",
              "    [theme=dark] .colab-df-convert:hover {\n",
              "      background-color: #434B5C;\n",
              "      box-shadow: 0px 1px 3px 1px rgba(0, 0, 0, 0.15);\n",
              "      filter: drop-shadow(0px 1px 2px rgba(0, 0, 0, 0.3));\n",
              "      fill: #FFFFFF;\n",
              "    }\n",
              "  </style>\n",
              "\n",
              "      <script>\n",
              "        const buttonEl =\n",
              "          document.querySelector('#df-450edcb9-23ae-48b1-b6c7-769f76c0c892 button.colab-df-convert');\n",
              "        buttonEl.style.display =\n",
              "          google.colab.kernel.accessAllowed ? 'block' : 'none';\n",
              "\n",
              "        async function convertToInteractive(key) {\n",
              "          const element = document.querySelector('#df-450edcb9-23ae-48b1-b6c7-769f76c0c892');\n",
              "          const dataTable =\n",
              "            await google.colab.kernel.invokeFunction('convertToInteractive',\n",
              "                                                     [key], {});\n",
              "          if (!dataTable) return;\n",
              "\n",
              "          const docLinkHtml = 'Like what you see? Visit the ' +\n",
              "            '<a target=\"_blank\" href=https://colab.research.google.com/notebooks/data_table.ipynb>data table notebook</a>'\n",
              "            + ' to learn more about interactive tables.';\n",
              "          element.innerHTML = '';\n",
              "          dataTable['output_type'] = 'display_data';\n",
              "          await google.colab.output.renderOutput(dataTable, element);\n",
              "          const docLink = document.createElement('div');\n",
              "          docLink.innerHTML = docLinkHtml;\n",
              "          element.appendChild(docLink);\n",
              "        }\n",
              "      </script>\n",
              "    </div>\n",
              "  </div>\n",
              "  "
            ]
          },
          "metadata": {},
          "execution_count": 7
        }
      ]
    },
    {
      "cell_type": "markdown",
      "source": [
        "### 6 Mapping the median household income in 2019 (MHI_2019) for tracts in harris county"
      ],
      "metadata": {
        "id": "MMkR7F16SlGq"
      }
    },
    {
      "cell_type": "code",
      "source": [
        "### merge MHI_2019 to the geojson of harris county using geoid\n",
        "\n",
        "inc = inc_2019[[\"MHI_2019\",'geoid']]\n",
        "harris = harris.rename(columns = {\"GEOID\":\"geoid\"})\n",
        "harris = harris.merge(inc,how=\"inner\",on='geoid')\n",
        "harris.head()\n"
      ],
      "metadata": {
        "colab": {
          "base_uri": "https://localhost:8080/",
          "height": 424
        },
        "id": "rkHrlv-0R_oV",
        "outputId": "50f56d4d-ccf1-473f-bc69-cbf63b256bd1"
      },
      "execution_count": 8,
      "outputs": [
        {
          "output_type": "execute_result",
          "data": {
            "text/plain": [
              "  STATEFP COUNTYFP TRACTCE        geoid  Shape_Leng  Shape_Area       Area  \\\n",
              "0      48      201  550301  48201550301    0.087945    0.000266   2.841116   \n",
              "1      48      201  550302  48201550302    0.128726    0.000833   8.905305   \n",
              "2      48      201  550401  48201550401    0.136356    0.000941  10.062362   \n",
              "3      48      201  553403  48201553403    0.164595    0.000623   6.659484   \n",
              "4      48      201  454502  48201454502    0.118936    0.000706   7.573661   \n",
              "\n",
              "     area_km         date  F2_15_2021  ObjectID      geoid_1  during_dis  \\\n",
              "0   2.841116  48201550301   -0.592180       695  48201550301  115.929204   \n",
              "1   8.905305  48201550302   -0.633229       696  48201550302  141.739622   \n",
              "2  10.062362  48201550401   -0.562786       697  48201550401  138.179285   \n",
              "3   6.659484  48201553403   -0.623691       740  48201553403  205.497382   \n",
              "4   7.573661  48201454502   -0.843546       545  48201454502  289.164786   \n",
              "\n",
              "      robust  ObjectID_1  region  \\\n",
              "0  58.702065         718       2   \n",
              "1  62.993505         720       2   \n",
              "2  55.945193         719       2   \n",
              "3  61.910995         660       2   \n",
              "4  84.198646         119       1   \n",
              "\n",
              "                                            geometry  MHI_2019  \n",
              "0  MULTIPOLYGON (((-95.43727 29.98103, -95.43709 ...   30236.0  \n",
              "1  MULTIPOLYGON (((-95.46369 30.00709, -95.45908 ...   47829.0  \n",
              "2  MULTIPOLYGON (((-95.48469 29.99539, -95.48391 ...   50941.0  \n",
              "3  MULTIPOLYGON (((-95.49277 30.05046, -95.49212 ...   88313.0  \n",
              "4  MULTIPOLYGON (((-95.73361 29.73627, -95.73338 ...  204250.0  "
            ],
            "text/html": [
              "\n",
              "  <div id=\"df-2b2d10e3-69c4-4740-8758-b24a40ca897b\">\n",
              "    <div class=\"colab-df-container\">\n",
              "      <div>\n",
              "<style scoped>\n",
              "    .dataframe tbody tr th:only-of-type {\n",
              "        vertical-align: middle;\n",
              "    }\n",
              "\n",
              "    .dataframe tbody tr th {\n",
              "        vertical-align: top;\n",
              "    }\n",
              "\n",
              "    .dataframe thead th {\n",
              "        text-align: right;\n",
              "    }\n",
              "</style>\n",
              "<table border=\"1\" class=\"dataframe\">\n",
              "  <thead>\n",
              "    <tr style=\"text-align: right;\">\n",
              "      <th></th>\n",
              "      <th>STATEFP</th>\n",
              "      <th>COUNTYFP</th>\n",
              "      <th>TRACTCE</th>\n",
              "      <th>geoid</th>\n",
              "      <th>Shape_Leng</th>\n",
              "      <th>Shape_Area</th>\n",
              "      <th>Area</th>\n",
              "      <th>area_km</th>\n",
              "      <th>date</th>\n",
              "      <th>F2_15_2021</th>\n",
              "      <th>ObjectID</th>\n",
              "      <th>geoid_1</th>\n",
              "      <th>during_dis</th>\n",
              "      <th>robust</th>\n",
              "      <th>ObjectID_1</th>\n",
              "      <th>region</th>\n",
              "      <th>geometry</th>\n",
              "      <th>MHI_2019</th>\n",
              "    </tr>\n",
              "  </thead>\n",
              "  <tbody>\n",
              "    <tr>\n",
              "      <th>0</th>\n",
              "      <td>48</td>\n",
              "      <td>201</td>\n",
              "      <td>550301</td>\n",
              "      <td>48201550301</td>\n",
              "      <td>0.087945</td>\n",
              "      <td>0.000266</td>\n",
              "      <td>2.841116</td>\n",
              "      <td>2.841116</td>\n",
              "      <td>48201550301</td>\n",
              "      <td>-0.592180</td>\n",
              "      <td>695</td>\n",
              "      <td>48201550301</td>\n",
              "      <td>115.929204</td>\n",
              "      <td>58.702065</td>\n",
              "      <td>718</td>\n",
              "      <td>2</td>\n",
              "      <td>MULTIPOLYGON (((-95.43727 29.98103, -95.43709 ...</td>\n",
              "      <td>30236.0</td>\n",
              "    </tr>\n",
              "    <tr>\n",
              "      <th>1</th>\n",
              "      <td>48</td>\n",
              "      <td>201</td>\n",
              "      <td>550302</td>\n",
              "      <td>48201550302</td>\n",
              "      <td>0.128726</td>\n",
              "      <td>0.000833</td>\n",
              "      <td>8.905305</td>\n",
              "      <td>8.905305</td>\n",
              "      <td>48201550302</td>\n",
              "      <td>-0.633229</td>\n",
              "      <td>696</td>\n",
              "      <td>48201550302</td>\n",
              "      <td>141.739622</td>\n",
              "      <td>62.993505</td>\n",
              "      <td>720</td>\n",
              "      <td>2</td>\n",
              "      <td>MULTIPOLYGON (((-95.46369 30.00709, -95.45908 ...</td>\n",
              "      <td>47829.0</td>\n",
              "    </tr>\n",
              "    <tr>\n",
              "      <th>2</th>\n",
              "      <td>48</td>\n",
              "      <td>201</td>\n",
              "      <td>550401</td>\n",
              "      <td>48201550401</td>\n",
              "      <td>0.136356</td>\n",
              "      <td>0.000941</td>\n",
              "      <td>10.062362</td>\n",
              "      <td>10.062362</td>\n",
              "      <td>48201550401</td>\n",
              "      <td>-0.562786</td>\n",
              "      <td>697</td>\n",
              "      <td>48201550401</td>\n",
              "      <td>138.179285</td>\n",
              "      <td>55.945193</td>\n",
              "      <td>719</td>\n",
              "      <td>2</td>\n",
              "      <td>MULTIPOLYGON (((-95.48469 29.99539, -95.48391 ...</td>\n",
              "      <td>50941.0</td>\n",
              "    </tr>\n",
              "    <tr>\n",
              "      <th>3</th>\n",
              "      <td>48</td>\n",
              "      <td>201</td>\n",
              "      <td>553403</td>\n",
              "      <td>48201553403</td>\n",
              "      <td>0.164595</td>\n",
              "      <td>0.000623</td>\n",
              "      <td>6.659484</td>\n",
              "      <td>6.659484</td>\n",
              "      <td>48201553403</td>\n",
              "      <td>-0.623691</td>\n",
              "      <td>740</td>\n",
              "      <td>48201553403</td>\n",
              "      <td>205.497382</td>\n",
              "      <td>61.910995</td>\n",
              "      <td>660</td>\n",
              "      <td>2</td>\n",
              "      <td>MULTIPOLYGON (((-95.49277 30.05046, -95.49212 ...</td>\n",
              "      <td>88313.0</td>\n",
              "    </tr>\n",
              "    <tr>\n",
              "      <th>4</th>\n",
              "      <td>48</td>\n",
              "      <td>201</td>\n",
              "      <td>454502</td>\n",
              "      <td>48201454502</td>\n",
              "      <td>0.118936</td>\n",
              "      <td>0.000706</td>\n",
              "      <td>7.573661</td>\n",
              "      <td>7.573661</td>\n",
              "      <td>48201454502</td>\n",
              "      <td>-0.843546</td>\n",
              "      <td>545</td>\n",
              "      <td>48201454502</td>\n",
              "      <td>289.164786</td>\n",
              "      <td>84.198646</td>\n",
              "      <td>119</td>\n",
              "      <td>1</td>\n",
              "      <td>MULTIPOLYGON (((-95.73361 29.73627, -95.73338 ...</td>\n",
              "      <td>204250.0</td>\n",
              "    </tr>\n",
              "  </tbody>\n",
              "</table>\n",
              "</div>\n",
              "      <button class=\"colab-df-convert\" onclick=\"convertToInteractive('df-2b2d10e3-69c4-4740-8758-b24a40ca897b')\"\n",
              "              title=\"Convert this dataframe to an interactive table.\"\n",
              "              style=\"display:none;\">\n",
              "        \n",
              "  <svg xmlns=\"http://www.w3.org/2000/svg\" height=\"24px\"viewBox=\"0 0 24 24\"\n",
              "       width=\"24px\">\n",
              "    <path d=\"M0 0h24v24H0V0z\" fill=\"none\"/>\n",
              "    <path d=\"M18.56 5.44l.94 2.06.94-2.06 2.06-.94-2.06-.94-.94-2.06-.94 2.06-2.06.94zm-11 1L8.5 8.5l.94-2.06 2.06-.94-2.06-.94L8.5 2.5l-.94 2.06-2.06.94zm10 10l.94 2.06.94-2.06 2.06-.94-2.06-.94-.94-2.06-.94 2.06-2.06.94z\"/><path d=\"M17.41 7.96l-1.37-1.37c-.4-.4-.92-.59-1.43-.59-.52 0-1.04.2-1.43.59L10.3 9.45l-7.72 7.72c-.78.78-.78 2.05 0 2.83L4 21.41c.39.39.9.59 1.41.59.51 0 1.02-.2 1.41-.59l7.78-7.78 2.81-2.81c.8-.78.8-2.07 0-2.86zM5.41 20L4 18.59l7.72-7.72 1.47 1.35L5.41 20z\"/>\n",
              "  </svg>\n",
              "      </button>\n",
              "      \n",
              "  <style>\n",
              "    .colab-df-container {\n",
              "      display:flex;\n",
              "      flex-wrap:wrap;\n",
              "      gap: 12px;\n",
              "    }\n",
              "\n",
              "    .colab-df-convert {\n",
              "      background-color: #E8F0FE;\n",
              "      border: none;\n",
              "      border-radius: 50%;\n",
              "      cursor: pointer;\n",
              "      display: none;\n",
              "      fill: #1967D2;\n",
              "      height: 32px;\n",
              "      padding: 0 0 0 0;\n",
              "      width: 32px;\n",
              "    }\n",
              "\n",
              "    .colab-df-convert:hover {\n",
              "      background-color: #E2EBFA;\n",
              "      box-shadow: 0px 1px 2px rgba(60, 64, 67, 0.3), 0px 1px 3px 1px rgba(60, 64, 67, 0.15);\n",
              "      fill: #174EA6;\n",
              "    }\n",
              "\n",
              "    [theme=dark] .colab-df-convert {\n",
              "      background-color: #3B4455;\n",
              "      fill: #D2E3FC;\n",
              "    }\n",
              "\n",
              "    [theme=dark] .colab-df-convert:hover {\n",
              "      background-color: #434B5C;\n",
              "      box-shadow: 0px 1px 3px 1px rgba(0, 0, 0, 0.15);\n",
              "      filter: drop-shadow(0px 1px 2px rgba(0, 0, 0, 0.3));\n",
              "      fill: #FFFFFF;\n",
              "    }\n",
              "  </style>\n",
              "\n",
              "      <script>\n",
              "        const buttonEl =\n",
              "          document.querySelector('#df-2b2d10e3-69c4-4740-8758-b24a40ca897b button.colab-df-convert');\n",
              "        buttonEl.style.display =\n",
              "          google.colab.kernel.accessAllowed ? 'block' : 'none';\n",
              "\n",
              "        async function convertToInteractive(key) {\n",
              "          const element = document.querySelector('#df-2b2d10e3-69c4-4740-8758-b24a40ca897b');\n",
              "          const dataTable =\n",
              "            await google.colab.kernel.invokeFunction('convertToInteractive',\n",
              "                                                     [key], {});\n",
              "          if (!dataTable) return;\n",
              "\n",
              "          const docLinkHtml = 'Like what you see? Visit the ' +\n",
              "            '<a target=\"_blank\" href=https://colab.research.google.com/notebooks/data_table.ipynb>data table notebook</a>'\n",
              "            + ' to learn more about interactive tables.';\n",
              "          element.innerHTML = '';\n",
              "          dataTable['output_type'] = 'display_data';\n",
              "          await google.colab.output.renderOutput(dataTable, element);\n",
              "          const docLink = document.createElement('div');\n",
              "          docLink.innerHTML = docLinkHtml;\n",
              "          element.appendChild(docLink);\n",
              "        }\n",
              "      </script>\n",
              "    </div>\n",
              "  </div>\n",
              "  "
            ]
          },
          "metadata": {},
          "execution_count": 8
        }
      ]
    },
    {
      "cell_type": "code",
      "source": [
        "### mapping the median household income using quantiles \n",
        "ax = harris.plot(column='MHI_2019',k=5,scheme='Quantiles',legend=True)\n",
        "ax.set_axis_off()\n"
      ],
      "metadata": {
        "colab": {
          "base_uri": "https://localhost:8080/",
          "height": 248
        },
        "id": "plWxF-PMTSID",
        "outputId": "55b9fcef-e2a1-4618-f70c-eef5b2d8ae8d"
      },
      "execution_count": 9,
      "outputs": [
        {
          "output_type": "display_data",
          "data": {
            "text/plain": [
              "<Figure size 432x288 with 1 Axes>"
            ],
            "image/png": "[encoded data removed]"
          },
          "metadata": {
            "needs_background": "light"
          }
        }
      ]
    },
    {
      "cell_type": "code",
      "source": [
        "### remove those tract with -6666666\n",
        "harris = harris.replace(-666666666,np.nan)\n",
        "ax = harris.plot(column='MHI_2019',k=5,scheme='Quantiles',legend=True)\n",
        "ax.set_axis_off()"
      ],
      "metadata": {
        "colab": {
          "base_uri": "https://localhost:8080/",
          "height": 248
        },
        "id": "ZbxnOGf5UdfS",
        "outputId": "e37af758-aa7f-4001-cb5c-bae26061a8d2"
      },
      "execution_count": 10,
      "outputs": [
        {
          "output_type": "display_data",
          "data": {
            "text/plain": [
              "<Figure size 432x288 with 1 Axes>"
            ],
            "image/png": "[encoded data removed]"
          },
          "metadata": {
            "needs_background": "light"
          }
        }
      ]
    },
    {
      "cell_type": "markdown",
      "source": [
        "### 7 Get ACS median household income for 2015 to 2018 and add it to the geojson"
      ],
      "metadata": {
        "id": "Jsso8VOcZnpL"
      }
    },
    {
      "cell_type": "code",
      "source": [
        "years = ['2015','2016','2017','2018']\n",
        "for year in years:\n",
        "  fields = {'B19013_001E':'MHI_{}'.format(year)}\n",
        "  inc = get_acs_data(year=year,type=\"acs5\",fields=fields,tract=\"*\",state=\"48\", county='201', key='77908019f81f76b439f9eac11a6918582f81ff7f')\n",
        "  harris = harris.merge(inc,how=\"inner\",on='geoid')\n",
        "harris.head()"
      ],
      "metadata": {
        "colab": {
          "base_uri": "https://localhost:8080/",
          "height": 768
        },
        "id": "EprXOsNSV1Bx",
        "outputId": "e5aae304-09dd-40c1-8a70-bb6240c0406e"
      },
      "execution_count": 11,
      "outputs": [
        {
          "output_type": "stream",
          "name": "stderr",
          "text": [
            "/usr/local/lib/python3.7/dist-packages/pandas/core/frame.py:9203: FutureWarning: Passing 'suffixes' which cause duplicate columns {'state_x', 'county_x', 'NAME_x', 'tract_x'} in the result is deprecated and will raise a MergeError in a future version.\n",
            "  validate=validate,\n"
          ]
        },
        {
          "output_type": "execute_result",
          "data": {
            "text/plain": [
              "  STATEFP COUNTYFP TRACTCE        geoid  Shape_Leng  Shape_Area       Area  \\\n",
              "0      48      201  550301  48201550301    0.087945    0.000266   2.841116   \n",
              "1      48      201  550302  48201550302    0.128726    0.000833   8.905305   \n",
              "2      48      201  550401  48201550401    0.136356    0.000941  10.062362   \n",
              "3      48      201  553403  48201553403    0.164595    0.000623   6.659484   \n",
              "4      48      201  454502  48201454502    0.118936    0.000706   7.573661   \n",
              "\n",
              "     area_km         date  F2_15_2021  ...  \\\n",
              "0   2.841116  48201550301   -0.592180  ...   \n",
              "1   8.905305  48201550302   -0.633229  ...   \n",
              "2  10.062362  48201550401   -0.562786  ...   \n",
              "3   6.659484  48201553403   -0.623691  ...   \n",
              "4   7.573661  48201454502   -0.843546  ...   \n",
              "\n",
              "                                       NAME_x  MHI_2017  state_x  county_x  \\\n",
              "0  Census Tract 5503.01, Harris County, Texas   31968.0       48       201   \n",
              "1  Census Tract 5503.02, Harris County, Texas   45500.0       48       201   \n",
              "2  Census Tract 5504.01, Harris County, Texas   39529.0       48       201   \n",
              "3  Census Tract 5534.03, Harris County, Texas   97727.0       48       201   \n",
              "4  Census Tract 4545.02, Harris County, Texas  182566.0       48       201   \n",
              "\n",
              "   tract_x                                      NAME_y  MHI_2018  state_y  \\\n",
              "0   550301  Census Tract 5503.01, Harris County, Texas   30667.0       48   \n",
              "1   550302  Census Tract 5503.02, Harris County, Texas   47018.0       48   \n",
              "2   550401  Census Tract 5504.01, Harris County, Texas   47609.0       48   \n",
              "3   553403  Census Tract 5534.03, Harris County, Texas   90217.0       48   \n",
              "4   454502  Census Tract 4545.02, Harris County, Texas  190882.0       48   \n",
              "\n",
              "  county_y  tract_y  \n",
              "0      201   550301  \n",
              "1      201   550302  \n",
              "2      201   550401  \n",
              "3      201   553403  \n",
              "4      201   454502  \n",
              "\n",
              "[5 rows x 38 columns]"
            ],
            "text/html": [
              "\n",
              "  <div id=\"df-eda51439-673e-415f-bc4c-386326ce90a1\">\n",
              "    <div class=\"colab-df-container\">\n",
              "      <div>\n",
              "<style scoped>\n",
              "    .dataframe tbody tr th:only-of-type {\n",
              "        vertical-align: middle;\n",
              "    }\n",
              "\n",
              "    .dataframe tbody tr th {\n",
              "        vertical-align: top;\n",
              "    }\n",
              "\n",
              "    .dataframe thead th {\n",
              "        text-align: right;\n",
              "    }\n",
              "</style>\n",
              "<table border=\"1\" class=\"dataframe\">\n",
              "  <thead>\n",
              "    <tr style=\"text-align: right;\">\n",
              "      <th></th>\n",
              "      <th>STATEFP</th>\n",
              "      <th>COUNTYFP</th>\n",
              "      <th>TRACTCE</th>\n",
              "      <th>geoid</th>\n",
              "      <th>Shape_Leng</th>\n",
              "      <th>Shape_Area</th>\n",
              "      <th>Area</th>\n",
              "      <th>area_km</th>\n",
              "      <th>date</th>\n",
              "      <th>F2_15_2021</th>\n",
              "      <th>...</th>\n",
              "      <th>NAME_x</th>\n",
              "      <th>MHI_2017</th>\n",
              "      <th>state_x</th>\n",
              "      <th>county_x</th>\n",
              "      <th>tract_x</th>\n",
              "      <th>NAME_y</th>\n",
              "      <th>MHI_2018</th>\n",
              "      <th>state_y</th>\n",
              "      <th>county_y</th>\n",
              "      <th>tract_y</th>\n",
              "    </tr>\n",
              "  </thead>\n",
              "  <tbody>\n",
              "    <tr>\n",
              "      <th>0</th>\n",
              "      <td>48</td>\n",
              "      <td>201</td>\n",
              "      <td>550301</td>\n",
              "      <td>48201550301</td>\n",
              "      <td>0.087945</td>\n",
              "      <td>0.000266</td>\n",
              "      <td>2.841116</td>\n",
              "      <td>2.841116</td>\n",
              "      <td>48201550301</td>\n",
              "      <td>-0.592180</td>\n",
              "      <td>...</td>\n",
              "      <td>Census Tract 5503.01, Harris County, Texas</td>\n",
              "      <td>31968.0</td>\n",
              "      <td>48</td>\n",
              "      <td>201</td>\n",
              "      <td>550301</td>\n",
              "      <td>Census Tract 5503.01, Harris County, Texas</td>\n",
              "      <td>30667.0</td>\n",
              "      <td>48</td>\n",
              "      <td>201</td>\n",
              "      <td>550301</td>\n",
              "    </tr>\n",
              "    <tr>\n",
              "      <th>1</th>\n",
              "      <td>48</td>\n",
              "      <td>201</td>\n",
              "      <td>550302</td>\n",
              "      <td>48201550302</td>\n",
              "      <td>0.128726</td>\n",
              "      <td>0.000833</td>\n",
              "      <td>8.905305</td>\n",
              "      <td>8.905305</td>\n",
              "      <td>48201550302</td>\n",
              "      <td>-0.633229</td>\n",
              "      <td>...</td>\n",
              "      <td>Census Tract 5503.02, Harris County, Texas</td>\n",
              "      <td>45500.0</td>\n",
              "      <td>48</td>\n",
              "      <td>201</td>\n",
              "      <td>550302</td>\n",
              "      <td>Census Tract 5503.02, Harris County, Texas</td>\n",
              "      <td>47018.0</td>\n",
              "      <td>48</td>\n",
              "      <td>201</td>\n",
              "      <td>550302</td>\n",
              "    </tr>\n",
              "    <tr>\n",
              "      <th>2</th>\n",
              "      <td>48</td>\n",
              "      <td>201</td>\n",
              "      <td>550401</td>\n",
              "      <td>48201550401</td>\n",
              "      <td>0.136356</td>\n",
              "      <td>0.000941</td>\n",
              "      <td>10.062362</td>\n",
              "      <td>10.062362</td>\n",
              "      <td>48201550401</td>\n",
              "      <td>-0.562786</td>\n",
              "      <td>...</td>\n",
              "      <td>Census Tract 5504.01, Harris County, Texas</td>\n",
              "      <td>39529.0</td>\n",
              "      <td>48</td>\n",
              "      <td>201</td>\n",
              "      <td>550401</td>\n",
              "      <td>Census Tract 5504.01, Harris County, Texas</td>\n",
              "      <td>47609.0</td>\n",
              "      <td>48</td>\n",
              "      <td>201</td>\n",
              "      <td>550401</td>\n",
              "    </tr>\n",
              "    <tr>\n",
              "      <th>3</th>\n",
              "      <td>48</td>\n",
              "      <td>201</td>\n",
              "      <td>553403</td>\n",
              "      <td>48201553403</td>\n",
              "      <td>0.164595</td>\n",
              "      <td>0.000623</td>\n",
              "      <td>6.659484</td>\n",
              "      <td>6.659484</td>\n",
              "      <td>48201553403</td>\n",
              "      <td>-0.623691</td>\n",
              "      <td>...</td>\n",
              "      <td>Census Tract 5534.03, Harris County, Texas</td>\n",
              "      <td>97727.0</td>\n",
              "      <td>48</td>\n",
              "      <td>201</td>\n",
              "      <td>553403</td>\n",
              "      <td>Census Tract 5534.03, Harris County, Texas</td>\n",
              "      <td>90217.0</td>\n",
              "      <td>48</td>\n",
              "      <td>201</td>\n",
              "      <td>553403</td>\n",
              "    </tr>\n",
              "    <tr>\n",
              "      <th>4</th>\n",
              "      <td>48</td>\n",
              "      <td>201</td>\n",
              "      <td>454502</td>\n",
              "      <td>48201454502</td>\n",
              "      <td>0.118936</td>\n",
              "      <td>0.000706</td>\n",
              "      <td>7.573661</td>\n",
              "      <td>7.573661</td>\n",
              "      <td>48201454502</td>\n",
              "      <td>-0.843546</td>\n",
              "      <td>...</td>\n",
              "      <td>Census Tract 4545.02, Harris County, Texas</td>\n",
              "      <td>182566.0</td>\n",
              "      <td>48</td>\n",
              "      <td>201</td>\n",
              "      <td>454502</td>\n",
              "      <td>Census Tract 4545.02, Harris County, Texas</td>\n",
              "      <td>190882.0</td>\n",
              "      <td>48</td>\n",
              "      <td>201</td>\n",
              "      <td>454502</td>\n",
              "    </tr>\n",
              "  </tbody>\n",
              "</table>\n",
              "<p>5 rows × 38 columns</p>\n",
              "</div>\n",
              "      <button class=\"colab-df-convert\" onclick=\"convertToInteractive('df-eda51439-673e-415f-bc4c-386326ce90a1')\"\n",
              "              title=\"Convert this dataframe to an interactive table.\"\n",
              "              style=\"display:none;\">\n",
              "        \n",
              "  <svg xmlns=\"http://www.w3.org/2000/svg\" height=\"24px\"viewBox=\"0 0 24 24\"\n",
              "       width=\"24px\">\n",
              "    <path d=\"M0 0h24v24H0V0z\" fill=\"none\"/>\n",
              "    <path d=\"M18.56 5.44l.94 2.06.94-2.06 2.06-.94-2.06-.94-.94-2.06-.94 2.06-2.06.94zm-11 1L8.5 8.5l.94-2.06 2.06-.94-2.06-.94L8.5 2.5l-.94 2.06-2.06.94zm10 10l.94 2.06.94-2.06 2.06-.94-2.06-.94-.94-2.06-.94 2.06-2.06.94z\"/><path d=\"M17.41 7.96l-1.37-1.37c-.4-.4-.92-.59-1.43-.59-.52 0-1.04.2-1.43.59L10.3 9.45l-7.72 7.72c-.78.78-.78 2.05 0 2.83L4 21.41c.39.39.9.59 1.41.59.51 0 1.02-.2 1.41-.59l7.78-7.78 2.81-2.81c.8-.78.8-2.07 0-2.86zM5.41 20L4 18.59l7.72-7.72 1.47 1.35L5.41 20z\"/>\n",
              "  </svg>\n",
              "      </button>\n",
              "      \n",
              "  <style>\n",
              "    .colab-df-container {\n",
              "      display:flex;\n",
              "      flex-wrap:wrap;\n",
              "      gap: 12px;\n",
              "    }\n",
              "\n",
              "    .colab-df-convert {\n",
              "      background-color: #E8F0FE;\n",
              "      border: none;\n",
              "      border-radius: 50%;\n",
              "      cursor: pointer;\n",
              "      display: none;\n",
              "      fill: #1967D2;\n",
              "      height: 32px;\n",
              "      padding: 0 0 0 0;\n",
              "      width: 32px;\n",
              "    }\n",
              "\n",
              "    .colab-df-convert:hover {\n",
              "      background-color: #E2EBFA;\n",
              "      box-shadow: 0px 1px 2px rgba(60, 64, 67, 0.3), 0px 1px 3px 1px rgba(60, 64, 67, 0.15);\n",
              "      fill: #174EA6;\n",
              "    }\n",
              "\n",
              "    [theme=dark] .colab-df-convert {\n",
              "      background-color: #3B4455;\n",
              "      fill: #D2E3FC;\n",
              "    }\n",
              "\n",
              "    [theme=dark] .colab-df-convert:hover {\n",
              "      background-color: #434B5C;\n",
              "      box-shadow: 0px 1px 3px 1px rgba(0, 0, 0, 0.15);\n",
              "      filter: drop-shadow(0px 1px 2px rgba(0, 0, 0, 0.3));\n",
              "      fill: #FFFFFF;\n",
              "    }\n",
              "  </style>\n",
              "\n",
              "      <script>\n",
              "        const buttonEl =\n",
              "          document.querySelector('#df-eda51439-673e-415f-bc4c-386326ce90a1 button.colab-df-convert');\n",
              "        buttonEl.style.display =\n",
              "          google.colab.kernel.accessAllowed ? 'block' : 'none';\n",
              "\n",
              "        async function convertToInteractive(key) {\n",
              "          const element = document.querySelector('#df-eda51439-673e-415f-bc4c-386326ce90a1');\n",
              "          const dataTable =\n",
              "            await google.colab.kernel.invokeFunction('convertToInteractive',\n",
              "                                                     [key], {});\n",
              "          if (!dataTable) return;\n",
              "\n",
              "          const docLinkHtml = 'Like what you see? Visit the ' +\n",
              "            '<a target=\"_blank\" href=https://colab.research.google.com/notebooks/data_table.ipynb>data table notebook</a>'\n",
              "            + ' to learn more about interactive tables.';\n",
              "          element.innerHTML = '';\n",
              "          dataTable['output_type'] = 'display_data';\n",
              "          await google.colab.output.renderOutput(dataTable, element);\n",
              "          const docLink = document.createElement('div');\n",
              "          docLink.innerHTML = docLinkHtml;\n",
              "          element.appendChild(docLink);\n",
              "        }\n",
              "      </script>\n",
              "    </div>\n",
              "  </div>\n",
              "  "
            ]
          },
          "metadata": {},
          "execution_count": 11
        }
      ]
    },
    {
      "cell_type": "code",
      "source": [
        "harris = harris[['geometry','geoid','MHI_2015','MHI_2016','MHI_2017','MHI_2018','MHI_2019','region']]\n",
        "harris = harris.replace(-666666666,np.nan)\n",
        "harris.head()"
      ],
      "metadata": {
        "colab": {
          "base_uri": "https://localhost:8080/",
          "height": 206
        },
        "id": "1gZHXCwkatzh",
        "outputId": "0b40fa4f-f458-4db9-fcdb-4bbe6c6afc7b"
      },
      "execution_count": 12,
      "outputs": [
        {
          "output_type": "execute_result",
          "data": {
            "text/plain": [
              "                                            geometry        geoid  MHI_2015  \\\n",
              "0  MULTIPOLYGON (((-95.43727 29.98103, -95.43709 ...  48201550301   31219.0   \n",
              "1  MULTIPOLYGON (((-95.46369 30.00709, -95.45908 ...  48201550302   40964.0   \n",
              "2  MULTIPOLYGON (((-95.48469 29.99539, -95.48391 ...  48201550401   34189.0   \n",
              "3  MULTIPOLYGON (((-95.49277 30.05046, -95.49212 ...  48201553403   85495.0   \n",
              "4  MULTIPOLYGON (((-95.73361 29.73627, -95.73338 ...  48201454502  147462.0   \n",
              "\n",
              "   MHI_2016  MHI_2017  MHI_2018  MHI_2019  region  \n",
              "0   31583.0   31968.0   30667.0   30236.0       2  \n",
              "1   45412.0   45500.0   47018.0   47829.0       2  \n",
              "2   38351.0   39529.0   47609.0   50941.0       2  \n",
              "3   85810.0   97727.0   90217.0   88313.0       2  \n",
              "4  180089.0  182566.0  190882.0  204250.0       1  "
            ],
            "text/html": [
              "\n",
              "  <div id=\"df-e8c4b4d5-cb34-44a6-bfd3-af6799e5c2c2\">\n",
              "    <div class=\"colab-df-container\">\n",
              "      <div>\n",
              "<style scoped>\n",
              "    .dataframe tbody tr th:only-of-type {\n",
              "        vertical-align: middle;\n",
              "    }\n",
              "\n",
              "    .dataframe tbody tr th {\n",
              "        vertical-align: top;\n",
              "    }\n",
              "\n",
              "    .dataframe thead th {\n",
              "        text-align: right;\n",
              "    }\n",
              "</style>\n",
              "<table border=\"1\" class=\"dataframe\">\n",
              "  <thead>\n",
              "    <tr style=\"text-align: right;\">\n",
              "      <th></th>\n",
              "      <th>geometry</th>\n",
              "      <th>geoid</th>\n",
              "      <th>MHI_2015</th>\n",
              "      <th>MHI_2016</th>\n",
              "      <th>MHI_2017</th>\n",
              "      <th>MHI_2018</th>\n",
              "      <th>MHI_2019</th>\n",
              "      <th>region</th>\n",
              "    </tr>\n",
              "  </thead>\n",
              "  <tbody>\n",
              "    <tr>\n",
              "      <th>0</th>\n",
              "      <td>MULTIPOLYGON (((-95.43727 29.98103, -95.43709 ...</td>\n",
              "      <td>48201550301</td>\n",
              "      <td>31219.0</td>\n",
              "      <td>31583.0</td>\n",
              "      <td>31968.0</td>\n",
              "      <td>30667.0</td>\n",
              "      <td>30236.0</td>\n",
              "      <td>2</td>\n",
              "    </tr>\n",
              "    <tr>\n",
              "      <th>1</th>\n",
              "      <td>MULTIPOLYGON (((-95.46369 30.00709, -95.45908 ...</td>\n",
              "      <td>48201550302</td>\n",
              "      <td>40964.0</td>\n",
              "      <td>45412.0</td>\n",
              "      <td>45500.0</td>\n",
              "      <td>47018.0</td>\n",
              "      <td>47829.0</td>\n",
              "      <td>2</td>\n",
              "    </tr>\n",
              "    <tr>\n",
              "      <th>2</th>\n",
              "      <td>MULTIPOLYGON (((-95.48469 29.99539, -95.48391 ...</td>\n",
              "      <td>48201550401</td>\n",
              "      <td>34189.0</td>\n",
              "      <td>38351.0</td>\n",
              "      <td>39529.0</td>\n",
              "      <td>47609.0</td>\n",
              "      <td>50941.0</td>\n",
              "      <td>2</td>\n",
              "    </tr>\n",
              "    <tr>\n",
              "      <th>3</th>\n",
              "      <td>MULTIPOLYGON (((-95.49277 30.05046, -95.49212 ...</td>\n",
              "      <td>48201553403</td>\n",
              "      <td>85495.0</td>\n",
              "      <td>85810.0</td>\n",
              "      <td>97727.0</td>\n",
              "      <td>90217.0</td>\n",
              "      <td>88313.0</td>\n",
              "      <td>2</td>\n",
              "    </tr>\n",
              "    <tr>\n",
              "      <th>4</th>\n",
              "      <td>MULTIPOLYGON (((-95.73361 29.73627, -95.73338 ...</td>\n",
              "      <td>48201454502</td>\n",
              "      <td>147462.0</td>\n",
              "      <td>180089.0</td>\n",
              "      <td>182566.0</td>\n",
              "      <td>190882.0</td>\n",
              "      <td>204250.0</td>\n",
              "      <td>1</td>\n",
              "    </tr>\n",
              "  </tbody>\n",
              "</table>\n",
              "</div>\n",
              "      <button class=\"colab-df-convert\" onclick=\"convertToInteractive('df-e8c4b4d5-cb34-44a6-bfd3-af6799e5c2c2')\"\n",
              "              title=\"Convert this dataframe to an interactive table.\"\n",
              "              style=\"display:none;\">\n",
              "        \n",
              "  <svg xmlns=\"http://www.w3.org/2000/svg\" height=\"24px\"viewBox=\"0 0 24 24\"\n",
              "       width=\"24px\">\n",
              "    <path d=\"M0 0h24v24H0V0z\" fill=\"none\"/>\n",
              "    <path d=\"M18.56 5.44l.94 2.06.94-2.06 2.06-.94-2.06-.94-.94-2.06-.94 2.06-2.06.94zm-11 1L8.5 8.5l.94-2.06 2.06-.94-2.06-.94L8.5 2.5l-.94 2.06-2.06.94zm10 10l.94 2.06.94-2.06 2.06-.94-2.06-.94-.94-2.06-.94 2.06-2.06.94z\"/><path d=\"M17.41 7.96l-1.37-1.37c-.4-.4-.92-.59-1.43-.59-.52 0-1.04.2-1.43.59L10.3 9.45l-7.72 7.72c-.78.78-.78 2.05 0 2.83L4 21.41c.39.39.9.59 1.41.59.51 0 1.02-.2 1.41-.59l7.78-7.78 2.81-2.81c.8-.78.8-2.07 0-2.86zM5.41 20L4 18.59l7.72-7.72 1.47 1.35L5.41 20z\"/>\n",
              "  </svg>\n",
              "      </button>\n",
              "      \n",
              "  <style>\n",
              "    .colab-df-container {\n",
              "      display:flex;\n",
              "      flex-wrap:wrap;\n",
              "      gap: 12px;\n",
              "    }\n",
              "\n",
              "    .colab-df-convert {\n",
              "      background-color: #E8F0FE;\n",
              "      border: none;\n",
              "      border-radius: 50%;\n",
              "      cursor: pointer;\n",
              "      display: none;\n",
              "      fill: #1967D2;\n",
              "      height: 32px;\n",
              "      padding: 0 0 0 0;\n",
              "      width: 32px;\n",
              "    }\n",
              "\n",
              "    .colab-df-convert:hover {\n",
              "      background-color: #E2EBFA;\n",
              "      box-shadow: 0px 1px 2px rgba(60, 64, 67, 0.3), 0px 1px 3px 1px rgba(60, 64, 67, 0.15);\n",
              "      fill: #174EA6;\n",
              "    }\n",
              "\n",
              "    [theme=dark] .colab-df-convert {\n",
              "      background-color: #3B4455;\n",
              "      fill: #D2E3FC;\n",
              "    }\n",
              "\n",
              "    [theme=dark] .colab-df-convert:hover {\n",
              "      background-color: #434B5C;\n",
              "      box-shadow: 0px 1px 3px 1px rgba(0, 0, 0, 0.15);\n",
              "      filter: drop-shadow(0px 1px 2px rgba(0, 0, 0, 0.3));\n",
              "      fill: #FFFFFF;\n",
              "    }\n",
              "  </style>\n",
              "\n",
              "      <script>\n",
              "        const buttonEl =\n",
              "          document.querySelector('#df-e8c4b4d5-cb34-44a6-bfd3-af6799e5c2c2 button.colab-df-convert');\n",
              "        buttonEl.style.display =\n",
              "          google.colab.kernel.accessAllowed ? 'block' : 'none';\n",
              "\n",
              "        async function convertToInteractive(key) {\n",
              "          const element = document.querySelector('#df-e8c4b4d5-cb34-44a6-bfd3-af6799e5c2c2');\n",
              "          const dataTable =\n",
              "            await google.colab.kernel.invokeFunction('convertToInteractive',\n",
              "                                                     [key], {});\n",
              "          if (!dataTable) return;\n",
              "\n",
              "          const docLinkHtml = 'Like what you see? Visit the ' +\n",
              "            '<a target=\"_blank\" href=https://colab.research.google.com/notebooks/data_table.ipynb>data table notebook</a>'\n",
              "            + ' to learn more about interactive tables.';\n",
              "          element.innerHTML = '';\n",
              "          dataTable['output_type'] = 'display_data';\n",
              "          await google.colab.output.renderOutput(dataTable, element);\n",
              "          const docLink = document.createElement('div');\n",
              "          docLink.innerHTML = docLinkHtml;\n",
              "          element.appendChild(docLink);\n",
              "        }\n",
              "      </script>\n",
              "    </div>\n",
              "  </div>\n",
              "  "
            ]
          },
          "metadata": {},
          "execution_count": 12
        }
      ]
    },
    {
      "cell_type": "code",
      "source": [
        "### 8 Calculate Gini for each year"
      ],
      "metadata": {
        "id": "x0d8ec-MbS1C"
      },
      "execution_count": 13,
      "outputs": []
    },
    {
      "cell_type": "code",
      "source": [
        "### calculate gini index for 2019\n",
        "## some problems in index, replace them\n",
        "harris.index = harris['geoid']\n",
        "gini_2019 = inequality.gini.Gini(harris['MHI_2019'])\n",
        "gini_2019.g"
      ],
      "metadata": {
        "colab": {
          "base_uri": "https://localhost:8080/"
        },
        "id": "7eiJriSBXn2D",
        "outputId": "0e0a3ec0-aa4e-4eff-8775-ec2944d6836c"
      },
      "execution_count": 14,
      "outputs": [
        {
          "output_type": "execute_result",
          "data": {
            "text/plain": [
              "0.1158100301091085"
            ]
          },
          "metadata": {},
          "execution_count": 14
        }
      ]
    },
    {
      "cell_type": "code",
      "source": [
        "### for all years from 2015-2019\n",
        "years = ['2015','2016','2017','2018','2019']\n",
        "ginis = [inequality.gini.Gini(harris[\"MHI_{}\".format(year)]).g for year in years]\n",
        "ginis"
      ],
      "metadata": {
        "colab": {
          "base_uri": "https://localhost:8080/"
        },
        "id": "BICyDc_JXxEL",
        "outputId": "ffc1f4a2-824a-41d8-aca4-517958b6f076"
      },
      "execution_count": 15,
      "outputs": [
        {
          "output_type": "execute_result",
          "data": {
            "text/plain": [
              "[0.11366791676290955,\n",
              " 0.11302141948478207,\n",
              " 0.11455110720672161,\n",
              " 0.11219062877071284,\n",
              " 0.1158100301091085]"
            ]
          },
          "metadata": {},
          "execution_count": 15
        }
      ]
    },
    {
      "cell_type": "markdown",
      "source": [
        "### 8 Calculate spatial Gini"
      ],
      "metadata": {
        "id": "Kv9OaxlvchEq"
      }
    },
    {
      "cell_type": "code",
      "source": [
        "### assume some regions\n",
        "# region = []\n",
        "# region.extend([1 for _ in range(0,200)])\n",
        "# region.extend([2 for _ in range(0,200)])\n",
        "# region.extend([3 for _ in range(0,100)])\n",
        "# region.extend([4 for _ in range(0,100)])\n",
        "# region.extend([5 for _ in range(0,186)])\n",
        "\n",
        "# harris['region'] = region\n",
        "# harris.head()\n"
      ],
      "metadata": {
        "id": "dGVcKEnXbn13"
      },
      "execution_count": 16,
      "outputs": []
    },
    {
      "cell_type": "code",
      "source": [
        "ax = harris.plot(column='region', categorical=True)\n",
        "ax.set_axis_off()"
      ],
      "metadata": {
        "colab": {
          "base_uri": "https://localhost:8080/",
          "height": 248
        },
        "id": "0YP7Ybn1culm",
        "outputId": "5b585eb8-b3e4-4862-ef4d-a07a519c986a"
      },
      "execution_count": 17,
      "outputs": [
        {
          "output_type": "display_data",
          "data": {
            "text/plain": [
              "<Figure size 432x288 with 1 Axes>"
            ],
            "image/png": "[encoded data removed]"
          },
          "metadata": {
            "needs_background": "light"
          }
        }
      ]
    },
    {
      "cell_type": "code",
      "source": [
        "w = libpysal.weights.block_weights(harris['region'])\n",
        "gs = inequality.gini.Gini_Spatial(harris['MHI_2019'],w)"
      ],
      "metadata": {
        "colab": {
          "base_uri": "https://localhost:8080/"
        },
        "id": "zgR6ULfaeJtY",
        "outputId": "454f476b-d1db-4732-b138-6c3c7f1ee9c6"
      },
      "execution_count": 18,
      "outputs": [
        {
          "output_type": "stream",
          "name": "stderr",
          "text": [
            "/usr/local/lib/python3.7/dist-packages/libpysal/weights/weights.py:172: UserWarning: The weights matrix is not fully connected: \n",
            " There are 5 disconnected components.\n",
            "  warnings.warn(message)\n"
          ]
        }
      ]
    },
    {
      "cell_type": "code",
      "source": [
        "gs.p_sim"
      ],
      "metadata": {
        "colab": {
          "base_uri": "https://localhost:8080/"
        },
        "id": "qX5v65eQeq1n",
        "outputId": "cc6de1a7-95d0-4133-ba4e-bf58c54e6043"
      },
      "execution_count": 19,
      "outputs": [
        {
          "output_type": "execute_result",
          "data": {
            "text/plain": [
              "0.01"
            ]
          },
          "metadata": {},
          "execution_count": 19
        }
      ]
    },
    {
      "cell_type": "code",
      "source": [
        "gs_all = [ inequality.gini.Gini_Spatial(harris[\"MHI_{}\".format(year)], w) for year in years]"
      ],
      "metadata": {
        "id": "1ALqaBR1etRG"
      },
      "execution_count": 20,
      "outputs": []
    },
    {
      "cell_type": "code",
      "source": [
        "p_values = [gs.p_sim for gs in gs_all]\n",
        "p_values"
      ],
      "metadata": {
        "colab": {
          "base_uri": "https://localhost:8080/"
        },
        "id": "ZxNERdYifABQ",
        "outputId": "6bf8597f-f1d0-4fa8-db4c-6e56b1c0cbed"
      },
      "execution_count": 21,
      "outputs": [
        {
          "output_type": "execute_result",
          "data": {
            "text/plain": [
              "[0.01, 0.01, 0.01, 0.01, 0.01]"
            ]
          },
          "metadata": {},
          "execution_count": 21
        }
      ]
    },
    {
      "cell_type": "code",
      "source": [
        "wgs = [gs.wcg_share for gs in gs_all]"
      ],
      "metadata": {
        "id": "awuQ7cJUffTw"
      },
      "execution_count": 24,
      "outputs": []
    },
    {
      "cell_type": "code",
      "source": [
        "bgs = [ 1 - wg for wg in wgs]"
      ],
      "metadata": {
        "id": "luKMnwYBfI-x"
      },
      "execution_count": 23,
      "outputs": []
    },
    {
      "cell_type": "markdown",
      "source": [
        "### 10 Plot the gini and spatial gini"
      ],
      "metadata": {
        "id": "5T1L48wvfSXy"
      }
    },
    {
      "cell_type": "code",
      "source": [
        "fig, ax1 = plt.subplots()\n",
        "t = years\n",
        "s1 = ginis\n",
        "ax1.plot(t, s1, 'b-')\n",
        "ax1.set_xlabel('Year')\n",
        "# Make the y-axis label, ticks and tick labels match the line color.\n",
        "ax1.set_ylabel('Gini', color='b')\n",
        "ax1.tick_params('y', colors='b')\n",
        "\n",
        "ax2 = ax1.twinx()\n",
        "s2 = bgs\n",
        "ax2.plot(t, s2, 'r-.')\n",
        "ax2.set_ylabel('Spatial Inequality Share', color='r')\n",
        "ax2.tick_params('y', colors='r')\n",
        "\n",
        "fig.tight_layout()"
      ],
      "metadata": {
        "colab": {
          "base_uri": "https://localhost:8080/",
          "height": 297
        },
        "id": "UvbCiCynfRtk",
        "outputId": "0a8ff619-2316-4c4e-ce77-bd7f4482e546"
      },
      "execution_count": null,
      "outputs": [
        {
          "output_type": "display_data",
          "data": {
            "text/plain": [
              "<Figure size 432x288 with 2 Axes>"
            ],
            "image/png": "[encoded data removed]"
          },
          "metadata": {
            "needs_background": "light"
          }
        }
      ]
    },
    {
      "cell_type": "code",
      "source": [
        ""
      ],
      "metadata": {
        "id": "9VGzIEaEftbd"
      },
      "execution_count": null,
      "outputs": []
    }
  ]
}